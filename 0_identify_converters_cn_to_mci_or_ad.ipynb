{
 "cells": [
  {
   "cell_type": "code",
   "execution_count": null,
   "metadata": {},
   "outputs": [],
   "source": [
    "import os\n",
    "import pandas as pd"
   ]
  },
  {
   "cell_type": "code",
   "execution_count": null,
   "metadata": {},
   "outputs": [],
   "source": [
    "####################\n",
    "#### file paths ####\n",
    "####################\n",
    "\n",
    "## INPUT FILES\n",
    "# ADNIMERGE.csv\n",
    "adnimerge_path = '/<path to>/ADNIMERGE.csv'\n",
    "# DXSUM_PDXCONV_ADNIALL.csv\n",
    "dx_path = '/<path to>/DXSUM_PDXCONV_ADNIALL.csv'\n",
    "# ROSTER.csv\n",
    "roster_path = '/<path to>/ROSTER.csv'\n",
    "\n",
    "## OUTPUT FILE PATH\n",
    "output_path = '/<path>'"
   ]
  },
  {
   "cell_type": "code",
   "execution_count": null,
   "metadata": {},
   "outputs": [],
   "source": [
    "adnimerge = pd.read_csv(adnimerge_path)\n",
    "dx = pd.read_csv(dx_path)"
   ]
  },
  {
   "cell_type": "code",
   "execution_count": null,
   "metadata": {},
   "outputs": [],
   "source": [
    "dx_adni1  = dx[dx['Phase'] == 'ADNI1']\n",
    "dx_adni2  = dx[dx['Phase'] == 'ADNI2']\n",
    "dx_adnigo = dx[dx['Phase'] == 'ADNIGO']\n",
    "dx_adni3  = dx[dx['Phase'] == 'ADNI3']"
   ]
  },
  {
   "cell_type": "code",
   "execution_count": null,
   "metadata": {},
   "outputs": [],
   "source": [
    "print(len(dx), len(dx_adni1), len(dx_adni2), len(dx_adnigo), len(dx_adni3))"
   ]
  },
  {
   "cell_type": "markdown",
   "metadata": {},
   "source": [
    "## ADNI1"
   ]
  },
  {
   "cell_type": "markdown",
   "metadata": {},
   "source": [
    "\n",
    "    current diagnosis DXCURREN: 1=NL, 2=MCI, 3=AD\n",
    "    did diagnosis change DXCONV: 0=No, 1=Yes-Conversion, 2=Yes-Reversion\n",
    "    if patient reverted, DXREV: 1=MCI to Normal, 2=AD to MCI, 3=AD to Normal\n",
    "    if patient converted, DXCONTYP: 1=Normal to MCI, 2=Normal to AD, 3=MCI to AD\n"
   ]
  },
  {
   "cell_type": "code",
   "execution_count": null,
   "metadata": {},
   "outputs": [],
   "source": [
    "# find RID of subjects with baseline diagnosis CN\n",
    "adni1_cn = dx_adni1[dx_adni1['VISCODE2'] == 'bl']\n",
    "adni1_cn = adni1_cn[adni1_cn['DXCURREN'] == 1]\n",
    "adni1_cn = adni1_cn['RID']\n",
    "\n",
    "# CN to MCI converters\n",
    "# find RID of subjects who at some visit had DXCONTYP == 1 (conversion from\n",
    "# CN to MCI) and had baseline diagnosis CN\n",
    "adni1_converters = dx_adni1[dx_adni1['DXCONTYP'] == 1]['RID']\n",
    "adni1_converters = adni1_converters.unique()\n",
    "\n",
    "# CN to AD converters\n",
    "# find RID of subjects who at some visit had DXCONTYP == 2 (conversion from\n",
    "# CN to AD) and had baseline diagnosis CN\n",
    "adni1_converters_2 = dx_adni1[dx_adni1['DXCONTYP'] == 2]['RID']\n",
    "adni1_converters_2 = adni1_converters_2.unique()\n"
   ]
  },
  {
   "cell_type": "code",
   "execution_count": null,
   "metadata": {},
   "outputs": [],
   "source": [
    "print(\"ADNI1 CN: {} new subjects, {} converters to MCI, {} converters to AD\".format(len(adni1_cn), len(adni1_converters), len(adni1_converters_2)))"
   ]
  },
  {
   "cell_type": "markdown",
   "metadata": {},
   "source": [
    "## ADNI2/ADNIGO"
   ]
  },
  {
   "cell_type": "markdown",
   "metadata": {},
   "source": [
    "single variable DXCHANGE:\n",
    "\n",
    "    1=Stable NL, 2=Stable MCI,3=Stable AD\n",
    "    4=Conversion from NL to MCI, 5=Conversion from MCI to AD, 6=Conversion from NL to AD\n",
    "    7=Reversion from MCI to NL, 8=Reversion from AD to MCI, 9=Reversion from AD to NL\n"
   ]
  },
  {
   "cell_type": "code",
   "execution_count": null,
   "metadata": {},
   "outputs": [],
   "source": [
    "# find RID of subjects with baseline diagnosis CN\n",
    "adni2_cn = dx_adni2[dx_adni2['VISCODE2'] == 'bl']\n",
    "adni2_cn = adni2_cn[adni2_cn['DXCHANGE'] == 1]\n",
    "adni2_cn = adni2_cn['RID']\n",
    "\n",
    "# CN to MCI converters\n",
    "# find RID of subjects who at some visit had DXCHANGE == 4 (conversion from\n",
    "# CN to MCI) and had baseline diagnosis CN\n",
    "adni2_converters = dx_adni2[dx_adni2['DXCHANGE'] == 4]['RID']\n",
    "adni2_converters = adni2_converters.unique()\n",
    "\n",
    "# CN to AD converters\n",
    "# find RID of subjects who at some visit had DXCHANGE == 6 (conversion from\n",
    "# CN to AD) and had baseline diagnosis CN\n",
    "adni2_converters_2 = dx_adni2[dx_adni2['DXCHANGE'] == 6]['RID']\n",
    "adni2_converters_2 = adni2_converters_2.unique()\n"
   ]
  },
  {
   "cell_type": "code",
   "execution_count": null,
   "metadata": {},
   "outputs": [],
   "source": [
    "print(\"ADNI2 CN: {} new subjects, {} converters to MCI, {} converters to AD\".format(len(adni2_cn), len(adni2_converters), len(adni2_converters_2)))"
   ]
  },
  {
   "cell_type": "markdown",
   "metadata": {},
   "source": [
    "## ADNI3"
   ]
  },
  {
   "cell_type": "markdown",
   "metadata": {},
   "source": [
    "current diagnosis DIAGNOSIS: 1=NL, 2=MCI, 3=AD"
   ]
  },
  {
   "cell_type": "code",
   "execution_count": null,
   "metadata": {},
   "outputs": [],
   "source": [
    "# find RID of subjects with baseline diagnosis CN\n",
    "adni3_cn = dx_adni3[dx_adni3['VISCODE2'] == 'bl']\n",
    "adni3_cn = adni3_cn[adni3_cn['DIAGNOSIS'] == 1]\n",
    "adni3_cn = adni3_cn['RID']\n",
    "\n",
    "# CN to MCI converters\n",
    "# find RID of subjects who at some visit had DXCHANGE == 4 (conversion from\n",
    "# CN to MCI) and had baseline diagnosis CN\n",
    "adni3_converters = dx_adni3[dx_adni3['DIAGNOSIS'] == 2]['RID']\n",
    "adni3_converters = adni3_converters.unique()\n",
    "\n",
    "# CN to AD converters\n",
    "# find RID of subjects who at some visit had DXCHANGE == 6 (conversion from\n",
    "# CN to AD) and had baseline diagnosis CN\n",
    "adni3_converters_2 = dx_adni3[dx_adni3['DIAGNOSIS'] == 3]['RID']\n",
    "adni3_converters_2 = adni3_converters_2.unique()"
   ]
  },
  {
   "cell_type": "code",
   "execution_count": null,
   "metadata": {},
   "outputs": [],
   "source": [
    "print(\"ADNI3 CN: {} new subjects\".format(len(adni3_cn)))"
   ]
  },
  {
   "cell_type": "markdown",
   "metadata": {},
   "source": [
    "## create RID lists"
   ]
  },
  {
   "cell_type": "code",
   "execution_count": null,
   "metadata": {},
   "outputs": [],
   "source": [
    "# all subjects with baseline diagnosis CN\n",
    "cn_subjects_all = set(adni1_cn) | set(adni2_cn) | set(adni3_cn)\n",
    "\n",
    "# remove subjects which converted during ADNI1,2,3\n",
    "cn_subjects_noncon = cn_subjects_all - set(adni1_converters) - set(adni1_converters_2)\n",
    "cn_subjects_noncon = cn_subjects_noncon - set(adni2_converters) - set(adni2_converters_2)\n",
    "cn_subjects_noncon = cn_subjects_noncon - set(adni3_converters) - set(adni3_converters_2)\n",
    "\n",
    "# CN subjects that converted at some point\n",
    "cn_subjects_con = cn_subjects_all - cn_subjects_noncon\n",
    "\n",
    "print(\"total: {} CN subjects, {} non-converters, {} converters\".format(len(cn_subjects_all), len(cn_subjects_noncon), len(cn_subjects_con)))"
   ]
  },
  {
   "cell_type": "markdown",
   "metadata": {},
   "source": [
    "## create table with patient id and conversion type"
   ]
  },
  {
   "cell_type": "code",
   "execution_count": null,
   "metadata": {},
   "outputs": [],
   "source": [
    "roster = pd.read_csv(roster_path)"
   ]
  },
  {
   "cell_type": "code",
   "execution_count": null,
   "metadata": {},
   "outputs": [],
   "source": [
    "roster = roster[roster.apply(lambda row: row['RID'] in cn_subjects_all, axis=1)]\n",
    "\n",
    "# subjects have a row in roster table for each study phase they participated in\n",
    "# keep only first entry\n",
    "\n",
    "roster = roster.drop_duplicates(subset=['RID'], keep='first')"
   ]
  },
  {
   "cell_type": "code",
   "execution_count": null,
   "metadata": {},
   "outputs": [],
   "source": [
    "roster['CONVERSION'] = roster.apply(lambda row: row['RID'] in cn_subjects_con, axis=1)\n",
    "roster = roster.drop(columns=[\"USERDATE\", \"USERDATE2\", \"update_stamp\"])"
   ]
  },
  {
   "cell_type": "code",
   "execution_count": null,
   "metadata": {},
   "outputs": [],
   "source": [
    "roster"
   ]
  },
  {
   "cell_type": "code",
   "execution_count": null,
   "metadata": {},
   "outputs": [],
   "source": [
    "roster.to_csv(os.path.join(output_path, 'roster_CN.csv'), index=False)"
   ]
  }
 ],
 "metadata": {
  "kernelspec": {
   "display_name": "Python 3",
   "language": "python",
   "name": "python3"
  },
  "language_info": {
   "codemirror_mode": {
    "name": "ipython",
    "version": 3
   },
   "file_extension": ".py",
   "mimetype": "text/x-python",
   "name": "python",
   "nbconvert_exporter": "python",
   "pygments_lexer": "ipython3",
   "version": "3.7.4"
  }
 },
 "nbformat": 4,
 "nbformat_minor": 2
}
