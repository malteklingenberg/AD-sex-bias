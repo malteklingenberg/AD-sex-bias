{
 "cells": [
  {
   "cell_type": "code",
   "execution_count": null,
   "metadata": {},
   "outputs": [],
   "source": [
    "%matplotlib inline"
   ]
  },
  {
   "cell_type": "code",
   "execution_count": null,
   "metadata": {},
   "outputs": [],
   "source": [
    "import h5py\n",
    "import matplotlib.pyplot as plt\n",
    "import numpy as np\n",
    "import pandas as pd\n",
    "\n",
    "# pytorch\n",
    "import torch\n",
    "import torch.nn as nn\n",
    "import torch.nn.functional as F\n",
    "import torch.optim as optim\n",
    "from torchvision import transforms\n",
    "from torch.utils.data import Dataset, DataLoader, SubsetRandomSampler\n",
    "\n",
    "# sklearn functions\n",
    "from sklearn.metrics import accuracy_score\n",
    "from sklearn.model_selection import train_test_split, KFold, GroupShuffleSplit\n",
    "\n",
    "# load functions from nitorch\n",
    "from nitorch.data import load_nifti\n",
    "from nitorch.transforms import  ToTensor, SagittalTranslate, SagittalFlip, \\\n",
    "                                AxialTranslate, normalization_factors, Normalize, \\\n",
    "                                IntensityRescale\n",
    "from nitorch.callbacks import EarlyStopping, ModelCheckpoint\n",
    "from nitorch.trainer import Trainer\n",
    "from nitorch.initialization import weights_init\n",
    "from nitorch.metrics import balanced_accuracy, sensitivity, specificity, auc_score\n",
    "from nitorch.utils import count_parameters"
   ]
  },
  {
   "cell_type": "code",
   "execution_count": null,
   "metadata": {},
   "outputs": [],
   "source": [
    "####################\n",
    "#### file paths ####\n",
    "####################\n",
    "\n",
    "## INPUT FILES\n",
    "# training, validation and test h5 files (from 1_create_dataset_splits_stratified)\n",
    "train_h5 = '/path/to/ADNI_3T_AD_CN_train.h5'\n",
    "val_h5 = '/path/to/ADNI_3T_AD_CN_val.h5'\n",
    "holdout_h5 = '/path/to/ADNI_3T_AD_CN_holdout.h5'\n",
    "# male/female test h5 files for sex-specific evaluation (from 1_create_dataset_splits_stratified)\n",
    "holdout_m_h5 = '/path/to/ADNI_3T_AD_CN_holdout_m.h5'\n",
    "holdout_f_h5 = '/path/to/ADNI_3T_AD_CN_holdout_f.h5'\n",
    "\n",
    "\n",
    "## OUTPUT FILE PATH\n",
    "# path where the trained models will be saved\n",
    "model_path = '/path/to/model'\n",
    "# path for the training graphics (loss curve) INCLUDING file name prefix\n",
    "# the file name should contain a format string (e.g. '{}') which will be replaced with the trial number\n",
    "# example: the value '/path/to/trial_{}' will create\n",
    "#   - /path/to/trial_0.png, /path/to/trial_1.png, etc., showing the loss curve\n",
    "#   - /path/to/trial_0_balanced_accuracy.png, etc., showing the balanced accuracy curve\n",
    "training_graphics_path = '/path/to/model/trial_{}'\n"
   ]
  },
  {
   "cell_type": "code",
   "execution_count": null,
   "metadata": {},
   "outputs": [],
   "source": [
    "print(torch.__version__)\n",
    "print(torch.version.cuda)"
   ]
  },
  {
   "cell_type": "code",
   "execution_count": null,
   "metadata": {},
   "outputs": [],
   "source": [
    "gpu = 0\n",
    "b = 4 # batch size\n",
    "num_classes = 2\n",
    "\n",
    "dtype = np.float64"
   ]
  },
  {
   "cell_type": "code",
   "execution_count": null,
   "metadata": {},
   "outputs": [],
   "source": [
    "train_h5_ = h5py.File(train_h5, 'r')\n",
    "val_h5_ = h5py.File(val_h5, 'r')\n",
    "holdout_h5_ = h5py.File(holdout_h5, 'r')"
   ]
  },
  {
   "cell_type": "code",
   "execution_count": null,
   "metadata": {},
   "outputs": [],
   "source": [
    "X_train, y_train = train_h5_['X'], train_h5_['y']\n",
    "X_val, y_val = val_h5_['X'], val_h5_['y']\n",
    "X_holdout, y_holdout = holdout_h5_['X'], holdout_h5_['y']"
   ]
  },
  {
   "cell_type": "code",
   "execution_count": null,
   "metadata": {},
   "outputs": [],
   "source": [
    "mean_std_normalization = False\n",
    "min_max_normalization = True"
   ]
  },
  {
   "cell_type": "code",
   "execution_count": null,
   "metadata": {},
   "outputs": [],
   "source": [
    "# normalize min-max\n",
    "X_train = np.array(X_train)\n",
    "X_val = np.array(X_val)\n",
    "X_holdout = np.array(X_holdout)\n",
    "\n",
    "y_train = np.array(y_train)\n",
    "y_val = np.array(y_val)\n",
    "y_holdout = np.array(y_holdout)\n",
    "\n",
    "if mean_std_normalization:\n",
    "    mean = np.mean(X_train)\n",
    "    std = np.std(X_train)\n",
    "    X_train = (X_train - mean) / std\n",
    "    X_val = (X_val - mean) / std\n",
    "    X_holdout = (X_holdout - mean) / std\n",
    "    \n",
    "if min_max_normalization:\n",
    "    for i in range(len(X_train)):\n",
    "        X_train[i] -= np.min(X_train[i])\n",
    "        X_train[i] /= np.max(X_train[i])\n",
    "\n",
    "    for i in range(len(X_val)):\n",
    "        X_val[i] -= np.min(X_val[i])\n",
    "        X_val[i] /= np.max(X_val[i])\n",
    "\n",
    "    for i in range(len(X_holdout)):\n",
    "        X_holdout[i] -= np.min(X_holdout[i])\n",
    "        X_holdout[i] /= np.max(X_holdout[i])"
   ]
  },
  {
   "cell_type": "code",
   "execution_count": null,
   "metadata": {},
   "outputs": [],
   "source": [
    "class ADNIDataset(Dataset):\n",
    "    def __init__(self, X, y, transform=None, target_transform=None, mask=None, z_factor=None, dtype=np.float32, num_classes=2):\n",
    "        self.X = X\n",
    "        self.y = y\n",
    "        self.transform = transform\n",
    "        self.target_transform = target_transform\n",
    "        self.mask = mask\n",
    "        self.z_factor = z_factor\n",
    "        self.dtype = dtype\n",
    "        self.num_classes = num_classes\n",
    "        \n",
    "    def __len__(self):\n",
    "        return len(self.X)\n",
    "    \n",
    "    def __getitem__(self, idx):\n",
    "        image = self.X[idx]\n",
    "        label_tensor = np.zeros(shape=(self.num_classes,))\n",
    "        label = self.y[idx] >= 0.5\n",
    "        label = torch.LongTensor([label])\n",
    "        \n",
    "        if self.transform:\n",
    "            image = self.transform(image)\n",
    "            \n",
    "        sample = {\"image\" : image,\n",
    "                 \"label\" : label}\n",
    "        return sample"
   ]
  },
  {
   "cell_type": "code",
   "execution_count": null,
   "metadata": {},
   "outputs": [],
   "source": [
    "augmentations = [SagittalFlip(), SagittalTranslate(dist=(-2, 3))]"
   ]
  },
  {
   "cell_type": "code",
   "execution_count": null,
   "metadata": {},
   "outputs": [],
   "source": [
    "adni_data_train = ADNIDataset(X_train, y_train, transform=transforms.Compose(augmentations + [ToTensor()]), dtype=dtype)\n",
    "adni_data_val = ADNIDataset(X_val, y_val, transform=transforms.Compose([ToTensor()]), dtype=dtype)\n",
    "adni_data_test = ADNIDataset(X_holdout, y_holdout, transform=transforms.Compose([ToTensor()]), dtype=dtype)"
   ]
  },
  {
   "cell_type": "code",
   "execution_count": null,
   "metadata": {},
   "outputs": [],
   "source": [
    "sample = adni_data_train[400]\n",
    "img = sample[\"image\"]\n",
    "img.shape"
   ]
  },
  {
   "cell_type": "code",
   "execution_count": null,
   "metadata": {},
   "outputs": [],
   "source": [
    "plt.imshow(img[0][:,:,80], cmap='gray')"
   ]
  },
  {
   "cell_type": "markdown",
   "metadata": {},
   "source": [
    "# Define the classifier"
   ]
  },
  {
   "cell_type": "code",
   "execution_count": null,
   "metadata": {},
   "outputs": [],
   "source": [
    "class ClassificationModel3D(nn.Module):\n",
    "    def __init__(self, dropout=0.4, dropout2=0.4):\n",
    "        nn.Module.__init__(self)\n",
    "        self.Conv_1 = nn.Conv3d(1, 8, 3)\n",
    "        self.Conv_1_bn = nn.BatchNorm3d(8)\n",
    "        self.Conv_1_mp = nn.MaxPool3d(2)\n",
    "        self.Conv_2 = nn.Conv3d(8, 16, 3)\n",
    "        self.Conv_2_bn = nn.BatchNorm3d(16)\n",
    "        self.Conv_2_mp = nn.MaxPool3d(3)\n",
    "        self.Conv_3 = nn.Conv3d(16, 32, 3)\n",
    "        self.Conv_3_bn = nn.BatchNorm3d(32)\n",
    "        self.Conv_3_mp = nn.MaxPool3d(2)\n",
    "        self.Conv_4 = nn.Conv3d(32, 64, 3)\n",
    "        self.Conv_4_bn = nn.BatchNorm3d(64)\n",
    "        self.Conv_4_mp = nn.MaxPool3d(3)\n",
    "        self.dense_1 = nn.Linear(2304, 128)\n",
    "        self.dense_2 = nn.Linear(128, 2)\n",
    "        self.relu = nn.ReLU()\n",
    "        self.dropout = nn.Dropout(dropout)\n",
    "        self.dropout2 = nn.Dropout(dropout2)\n",
    "\n",
    "    def forward(self, x):\n",
    "        x = self.relu(self.Conv_1_bn(self.Conv_1(x)))\n",
    "        x = self.Conv_1_mp(x)\n",
    "        x = self.relu(self.Conv_2_bn(self.Conv_2(x)))\n",
    "        x = self.Conv_2_mp(x)\n",
    "        x = self.relu(self.Conv_3_bn(self.Conv_3(x)))\n",
    "        x = self.Conv_3_mp(x)\n",
    "        x = self.relu(self.Conv_4_bn(self.Conv_4(x)))\n",
    "        x = self.Conv_4_mp(x)\n",
    "        x = x.view(x.size(0), -1)\n",
    "        x = self.dropout(x)\n",
    "        x = self.relu(self.dense_1(x))\n",
    "        x = self.dropout2(x)\n",
    "        x = self.dense_2(x)\n",
    "        return x"
   ]
  },
  {
   "cell_type": "code",
   "execution_count": null,
   "metadata": {},
   "outputs": [],
   "source": [
    "net = ClassificationModel3D()\n",
    "\n",
    "gpu_ids = [0,1,2,3]\n",
    "b = b*4 # 16\n",
    "net = nn.DataParallel(net, device_ids=gpu_ids)\n",
    "\n",
    "net = net.cuda(gpu)"
   ]
  },
  {
   "cell_type": "code",
   "execution_count": null,
   "metadata": {},
   "outputs": [],
   "source": [
    "print(\"Trainable model parameters: {}\".format(count_parameters(net)))"
   ]
  },
  {
   "cell_type": "markdown",
   "metadata": {},
   "source": [
    "# Training"
   ]
  },
  {
   "cell_type": "code",
   "execution_count": null,
   "metadata": {},
   "outputs": [],
   "source": [
    "def run(\n",
    "    net,\n",
    "    data,\n",
    "    shape,\n",
    "    callbacks=[],\n",
    "    augmentations=[],\n",
    "    masked=False,\n",
    "    metrics=[],\n",
    "    k_folds=None,\n",
    "    b=4,\n",
    "    num_epochs=35,\n",
    "    retain_metric=None\n",
    "):      \n",
    "   \n",
    "    fold_metric = []\n",
    "    models = []\n",
    "    fold = 0\n",
    "    initial_prepend = None\n",
    "    \n",
    "    for trial in range(5):\n",
    "        print(\"Starting trial {}\".format(trial))\n",
    "\n",
    "        # add current trial number to model checkpoint path\n",
    "        if callbacks is not None:\n",
    "            for idx, callback in enumerate(callbacks):\n",
    "                if isinstance(callback, ModelCheckpoint):\n",
    "                    if initial_prepend is None:\n",
    "                        initial_prepend = callbacks[idx].prepend\n",
    "                    callbacks[idx].prepend = initial_prepend + \"trial_{}_\".format(fold)\n",
    "        fold += 1\n",
    "\n",
    "        # restart model\n",
    "        del net\n",
    "        net = ClassificationModel3D()\n",
    "        net = nn.DataParallel(net, device_ids=gpu_ids)\n",
    "        net.cuda(gpu)\n",
    "        \n",
    "        # reset hyperparameters\n",
    "        lr = 1e-4\n",
    "        wd = 1e-4\n",
    "        criterion = nn.CrossEntropyLoss().cuda(gpu)\n",
    "        optimizer = optim.Adam(net.parameters(), lr=lr, weight_decay=wd)\n",
    "\n",
    "        train_loader = DataLoader(\n",
    "            adni_data_train, batch_size=b, num_workers=4, shuffle=True\n",
    "        )\n",
    "        val_loader = DataLoader(\n",
    "            adni_data_val, batch_size=1, num_workers=1, shuffle=True\n",
    "        )\n",
    "\n",
    "        sample = next(iter(train_loader))\n",
    "        img = sample[\"image\"][0]\n",
    "        lbl = sample[\"label\"][0]\n",
    "        plt.imshow(img.squeeze()[:,:,70], cmap='gray')\n",
    "        plt.title(lbl.item())\n",
    "        plt.show()\n",
    "        trainer = Trainer(\n",
    "            net,\n",
    "            criterion,\n",
    "            optimizer,\n",
    "            metrics=metrics,\n",
    "            callbacks=callbacks,\n",
    "            device=gpu,\n",
    "            prediction_type=\"classification\"\n",
    "        )\n",
    "        # train model and store results\n",
    "        net, report = trainer.train_model(\n",
    "            train_loader,\n",
    "            val_loader,\n",
    "            num_epochs=num_epochs,\n",
    "            show_train_steps=10,\n",
    "            show_validation_epochs=1,\n",
    "        )\n",
    "        # append validation score of the retain metric\n",
    "        if isinstance(retain_metric, str):\n",
    "            fold_metric.append(report[\"val_metrics\"][retain_metric][-1])\n",
    "        else:\n",
    "            fold_metric.append(report[\"val_metrics\"][retain_metric.__name__][-1])\n",
    "\n",
    "        models.append(net)\n",
    "        print(\"Finished trial.\")\n",
    "\n",
    "        # visualize result\n",
    "        trainer.visualize_training(report, metrics, training_graphics_path.format(trial))\n",
    "        trainer.evaluate_model(val_loader, gpu)\n",
    "\n",
    "    print(\"################################\")\n",
    "    print(\"################################\")\n",
    "    print(\"All accuracies: {}\".format(fold_metric))\n",
    "    return fold_metric, models\n"
   ]
  },
  {
   "cell_type": "code",
   "execution_count": null,
   "metadata": {},
   "outputs": [],
   "source": [
    "num_epochs = 200\n",
    "min_iters = 3\n",
    "ignore_epochs = 15\n",
    "normalize = False\n",
    "retain_metric = balanced_accuracy\n",
    "metrics = [balanced_accuracy]"
   ]
  },
  {
   "cell_type": "code",
   "execution_count": null,
   "metadata": {},
   "outputs": [],
   "source": [
    "check = ModelCheckpoint(path=model_path,\n",
    "                             store_best=True,\n",
    "                             ignore_before=ignore_epochs,\n",
    "                             retain_metric=retain_metric)\n",
    "callbacks = [check, EarlyStopping(patience=8, ignore_before=ignore_epochs, retain_metric=\"loss\", mode='min')]"
   ]
  },
  {
   "cell_type": "code",
   "execution_count": null,
   "metadata": {
    "scrolled": false
   },
   "outputs": [],
   "source": [
    "fold_metric, models = run(net=net, data=adni_data_train,\n",
    "                  k_folds=-1,\n",
    "                  callbacks=callbacks,\n",
    "                  shape=-1,\n",
    "                  masked=False,\n",
    "                  metrics=metrics,\n",
    "                  num_epochs=num_epochs,\n",
    "                  retain_metric=retain_metric,\n",
    "                  b=b,\n",
    "                 )\n",
    "\n",
    "print(np.mean(fold_metric))\n",
    "print(np.std(fold_metric))"
   ]
  },
  {
   "cell_type": "markdown",
   "metadata": {
    "collapsed": true
   },
   "source": [
    "# Start inference"
   ]
  },
  {
   "cell_type": "code",
   "execution_count": null,
   "metadata": {},
   "outputs": [],
   "source": [
    "from collections import OrderedDict\n",
    "\n",
    "# load models\n",
    "models = []\n",
    "for i in range(5):\n",
    "    filename = \"/trial_{}_BEST_ITERATION.h5\".format(i)\n",
    "    net = ClassificationModel3D()\n",
    "    \n",
    "    state_dict = torch.load(model_path + filename)\n",
    "    new_state_dict = OrderedDict()\n",
    "    for k, v in state_dict.items():\n",
    "        name = k[7:] # remove \"module.\" prefix (due to nn.DataParallel)\n",
    "        new_state_dict[name] = v\n",
    "    \n",
    "    net.load_state_dict(new_state_dict)\n",
    "    models.append(net)"
   ]
  },
  {
   "cell_type": "code",
   "execution_count": null,
   "metadata": {},
   "outputs": [],
   "source": [
    "test_loader = DataLoader(\n",
    "            adni_data_test, batch_size=1, num_workers=1, shuffle=False\n",
    ")"
   ]
  },
  {
   "cell_type": "code",
   "execution_count": null,
   "metadata": {
    "scrolled": false
   },
   "outputs": [],
   "source": [
    "metrics = []\n",
    "    \n",
    "for trial, model in enumerate(models):\n",
    "    print(\"Trial {}\".format(trial))\n",
    "\n",
    "    all_preds = []\n",
    "    all_labels = []\n",
    "    \n",
    "    net = model.cuda(gpu)\n",
    "    net.eval()\n",
    "    with torch.no_grad():\n",
    "        cou = 0\n",
    "        for sample in test_loader:\n",
    "            img = sample[\"image\"]\n",
    "            label = sample[\"label\"]\n",
    "            \n",
    "            img = img.to(torch.device(\"cuda:\" + str(gpu)))\n",
    "            output = net.forward(img)\n",
    "            pred = torch.argmax(F.softmax(output, dim=1))\n",
    "            all_preds.append(pred.cpu().numpy().item())\n",
    "            all_labels.append(label.numpy().item())\n",
    "    \n",
    "    balanced_acc = balanced_accuracy(all_labels, all_preds)\n",
    "    sens = sensitivity(all_labels, all_preds)\n",
    "    spec = specificity(all_labels, all_preds)\n",
    "    auc = auc_score(all_labels, all_preds)\n",
    "    print(balanced_acc)\n",
    "    print()\n",
    "\n",
    "    metrics.append((balanced_acc, sens, spec, auc))\n",
    "    \n",
    "print(\"######## Final results ########\")\n",
    "metrics_df = pd.DataFrame(metrics)\n",
    "print(metrics_df)\n",
    "print(\"Balanced accuracy mean {:.2f} %\".format(np.mean(metrics_df[0])*100))\n"
   ]
  },
  {
   "cell_type": "markdown",
   "metadata": {
    "collapsed": true
   },
   "source": [
    "### male/female"
   ]
  },
  {
   "cell_type": "code",
   "execution_count": null,
   "metadata": {},
   "outputs": [],
   "source": [
    "holdout_h5_m = h5py.File(holdout_m_h5, 'r')\n",
    "holdout_h5_f = h5py.File(holdout_f_h5, 'r')\n",
    "\n",
    "X_holdout_m, y_holdout_m = holdout_h5_m['X'], holdout_h5_m['y']\n",
    "X_holdout_f, y_holdout_f = holdout_h5_f['X'], holdout_h5_f['y']\n",
    "\n",
    "X_holdout_m = np.array(X_holdout_m)\n",
    "y_holdout_m = np.array(y_holdout_m)\n",
    "X_holdout_f = np.array(X_holdout_f)\n",
    "y_holdout_f = np.array(y_holdout_f)\n",
    "\n",
    "for i in range(len(X_holdout_m)):\n",
    "    X_holdout_m[i] -= np.min(X_holdout_m[i])\n",
    "    X_holdout_m[i] /= np.max(X_holdout_m[i])\n",
    "for i in range(len(X_holdout_f)):\n",
    "    X_holdout_f[i] -= np.min(X_holdout_f[i])\n",
    "    X_holdout_f[i] /= np.max(X_holdout_f[i])\n",
    "    \n",
    "adni_data_test_m = ADNIDataset(X_holdout_m, y_holdout_m, transform=transforms.Compose([ToTensor()]), dtype=dtype)\n",
    "adni_data_test_f = ADNIDataset(X_holdout_f, y_holdout_f, transform=transforms.Compose([ToTensor()]), dtype=dtype)"
   ]
  },
  {
   "cell_type": "code",
   "execution_count": null,
   "metadata": {},
   "outputs": [],
   "source": [
    "test_m_loader = DataLoader(\n",
    "            adni_data_test_m, batch_size=1, num_workers=1, shuffle=False\n",
    ")\n",
    "test_f_loader = DataLoader(\n",
    "            adni_data_test_f, batch_size=1, num_workers=1, shuffle=False\n",
    ")"
   ]
  },
  {
   "cell_type": "code",
   "execution_count": null,
   "metadata": {},
   "outputs": [],
   "source": [
    "metrics = []\n",
    "\n",
    "print(\"male patients\")\n",
    "for trial, model in enumerate(models):\n",
    "    print(\"Trial {}\".format(trial))\n",
    "\n",
    "    all_preds = []\n",
    "    all_labels = []\n",
    "    \n",
    "    net = model.cuda(gpu)\n",
    "    net.eval()\n",
    "    with torch.no_grad():\n",
    "        for sample in test_m_loader:\n",
    "            img = sample[\"image\"]\n",
    "            label = sample[\"label\"]\n",
    "\n",
    "            img = img.to(torch.device(\"cuda:\" + str(gpu)))\n",
    "            output = net.forward(img)\n",
    "            pred = torch.argmax(F.softmax(output, dim=1))\n",
    "            all_preds.append(pred.cpu().numpy().item())\n",
    "            all_labels.append(label.numpy().item())\n",
    "    \n",
    "    balanced_acc = balanced_accuracy(all_labels, all_preds)\n",
    "    sens = sensitivity(all_labels, all_preds)\n",
    "    spec = specificity(all_labels, all_preds)\n",
    "    auc = auc_score(all_labels, all_preds)\n",
    "    print(balanced_acc)\n",
    "    print()\n",
    "\n",
    "    metrics.append((balanced_acc, sens, spec, auc))\n",
    "    \n",
    "print(\"######## Final results ########\")\n",
    "metrics_df = pd.DataFrame(metrics)\n",
    "print(metrics_df)\n",
    "print(\"Balanced accuracy mean {:.2f} %\".format(np.mean(metrics_df[0])*100))"
   ]
  },
  {
   "cell_type": "code",
   "execution_count": null,
   "metadata": {},
   "outputs": [],
   "source": [
    "metrics = []\n",
    "\n",
    "print(\"female patients\")\n",
    "for trial, model in enumerate(models):\n",
    "    print(\"Trial {}\".format(trial))\n",
    "\n",
    "    all_preds = []\n",
    "    all_labels = []\n",
    "    \n",
    "    net = model.cuda(gpu)\n",
    "    net.eval()\n",
    "    with torch.no_grad():\n",
    "        for sample in test_f_loader:\n",
    "            img = sample[\"image\"]\n",
    "            label = sample[\"label\"]\n",
    "\n",
    "            img = img.to(torch.device(\"cuda:\" + str(gpu)))\n",
    "            output = net.forward(img)\n",
    "            pred = torch.argmax(F.softmax(output, dim=1))\n",
    "            all_preds.append(pred.cpu().numpy().item())\n",
    "            all_labels.append(label.numpy().item())\n",
    "    \n",
    "    balanced_acc = balanced_accuracy(all_labels, all_preds)\n",
    "    sens = sensitivity(all_labels, all_preds)\n",
    "    spec = specificity(all_labels, all_preds)\n",
    "    auc = auc_score(all_labels, all_preds)\n",
    "    print(balanced_acc)\n",
    "    print()\n",
    "    \n",
    "    metrics.append((balanced_acc, sens, spec, auc))\n",
    "    \n",
    "print(\"######## Final results ########\")\n",
    "metrics_df = pd.DataFrame(metrics)\n",
    "print(metrics_df)\n",
    "print(\"Balanced accuracy mean {:.2f} %\".format(np.mean(metrics_df[0])*100))"
   ]
  }
 ],
 "metadata": {
  "kernelspec": {
   "display_name": "Python 3",
   "language": "python",
   "name": "python3"
  },
  "language_info": {
   "codemirror_mode": {
    "name": "ipython",
    "version": 3
   },
   "file_extension": ".py",
   "mimetype": "text/x-python",
   "name": "python",
   "nbconvert_exporter": "python",
   "pygments_lexer": "ipython3",
   "version": "3.7.4"
  }
 },
 "nbformat": 4,
 "nbformat_minor": 2
}
