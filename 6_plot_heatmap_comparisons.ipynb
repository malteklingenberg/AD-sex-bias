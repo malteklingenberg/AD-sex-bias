{
 "cells": [
  {
   "cell_type": "markdown",
   "metadata": {},
   "source": [
    "##### Import packages"
   ]
  },
  {
   "cell_type": "code",
   "execution_count": null,
   "metadata": {},
   "outputs": [],
   "source": [
    "%matplotlib inline"
   ]
  },
  {
   "cell_type": "code",
   "execution_count": null,
   "metadata": {},
   "outputs": [],
   "source": [
    "import os\n",
    "\n",
    "import h5py\n",
    "import numpy as np\n",
    "import pandas as pd\n",
    "import torch \n",
    "import pickle\n",
    "import nibabel\n",
    "\n",
    "import matplotlib.pyplot as plt\n",
    "import matplotlib.colors as mcolors\n",
    "from copy import deepcopy\n",
    "\n",
    "from collections import OrderedDict, defaultdict"
   ]
  },
  {
   "cell_type": "code",
   "execution_count": null,
   "metadata": {},
   "outputs": [],
   "source": [
    "plt.style.use('default')\n",
    "\n",
    "plt.rcParams.update({\n",
    "    \"pgf.texsystem\": \"pdflatex\",\n",
    "    'font.family': 'serif',\n",
    "    'text.usetex': False,\n",
    "    'pgf.rcfonts': True,\n",
    "})"
   ]
  },
  {
   "cell_type": "code",
   "execution_count": null,
   "metadata": {},
   "outputs": [],
   "source": [
    "####################\n",
    "#### file paths ####\n",
    "####################\n",
    "\n",
    "## INPUT FILE PATHS\n",
    "# as in the previous notebooks\n",
    "data_base_path = '/path/to/data'\n",
    "models_base_path = '/path/to/models'\n",
    "lrp_base_path = '/path/to/lrp'\n",
    "\n",
    "mni_brain_path = '/path/to/MNI152_T1_1mm_brain.nii'"
   ]
  },
  {
   "cell_type": "markdown",
   "metadata": {},
   "source": [
    "## Plotting individual heatmaps"
   ]
  },
  {
   "cell_type": "code",
   "execution_count": null,
   "metadata": {},
   "outputs": [],
   "source": [
    "mri_shape = (182, 218, 182)"
   ]
  },
  {
   "cell_type": "code",
   "execution_count": null,
   "metadata": {},
   "outputs": [],
   "source": [
    "def load_nifti(file_path, mask=None, z_factor=None, remove_nan=True):\n",
    "    \"\"\"Load a 3D array from a NIFTI file.\"\"\"\n",
    "    img = nibabel.load(file_path)\n",
    "    struct_arr = np.array(img.get_data())\n",
    "\n",
    "    if remove_nan:\n",
    "        struct_arr = np.nan_to_num(struct_arr)\n",
    "    if mask is not None:\n",
    "        struct_arr *= mask\n",
    "    if z_factor is not None:\n",
    "        struct_arr = np.around(zoom(struct_arr, z_factor), 0)\n",
    "\n",
    "    return struct_arr\n",
    "\n",
    "\n",
    "def save_nifti(file_path, struct_arr):\n",
    "    \"\"\"Save a 3D array to a NIFTI file.\"\"\"\n",
    "    img = nibabel.Nifti1Image(struct_arr, np.eye(4))\n",
    "    nibabel.save(img, file_path)"
   ]
  },
  {
   "cell_type": "code",
   "execution_count": null,
   "metadata": {},
   "outputs": [],
   "source": [
    "def plot_idv_brain(heat_map, brain_img, ref_scale, fig=None, ax=None, contour_areas=[],\n",
    "                  x_idx=slice(0, mri_shape[0]), y_idx=slice(0, mri_shape[1]), z_idx=slice(0, mri_shape[2]),\n",
    "                  vmin=90, vmax=99.5, set_nan=True, cmap=None, c=None):\n",
    "\n",
    "    if fig is None or ax is None:\n",
    "        fig, ax = plt.subplots(1, figsize=(12, 12))\n",
    "    \n",
    "    img = deepcopy(heat_map)\n",
    "    if set_nan:\n",
    "        img[nmm_mask==0]=np.nan\n",
    "    if cmap is None:\n",
    "        cmap = mcolors.LinearSegmentedColormap.from_list(name='alphared',\n",
    "                                                  colors=[(1, 0, 0, 0),\n",
    "                                                         \"darkred\", \"red\", \"darkorange\", \"orange\", \"yellow\"],\n",
    "                                                  N=5000)\n",
    "\n",
    "    if brain_img is not None:\n",
    "        ax.imshow(brain_img[x_idx, y_idx, z_idx].T, cmap=\"Greys\", origin='lower')\n",
    "\n",
    "    vmin, vmax = np.percentile(ref_scale, vmin), np.percentile(ref_scale, vmax)\n",
    "    im = ax.imshow(img[x_idx, y_idx, z_idx].T, cmap=cmap, \n",
    "               vmin=vmin, vmax=vmax, interpolation=\"gaussian\", origin='lower')\n",
    "    \n",
    "   \n",
    "    ax.axis('off')    \n",
    "\n",
    "    return fig, ax, im"
   ]
  },
  {
   "cell_type": "code",
   "execution_count": null,
   "metadata": {},
   "outputs": [],
   "source": [
    "mni_brain = load_nifti(mni_brain_path)"
   ]
  },
  {
   "cell_type": "markdown",
   "metadata": {},
   "source": [
    "## select patients"
   ]
  },
  {
   "cell_type": "code",
   "execution_count": null,
   "metadata": {},
   "outputs": [],
   "source": [
    "# split and trial from which to select patients for individual heatmap comparisons\n",
    "split = '02_np914_r47_bal'\n",
    "trial = 0"
   ]
  },
  {
   "cell_type": "code",
   "execution_count": null,
   "metadata": {},
   "outputs": [],
   "source": [
    "raw_pred = pickle.load(open('{}/{}/raw_pred.pkl'.format(models_base_path, split), 'rb'))\n",
    "raw_pred = raw_pred[trial]\n",
    "\n",
    "subjects = pd.read_csv('{}/{}_test.csv'.format(data_base_path, split[:-4]))"
   ]
  },
  {
   "cell_type": "code",
   "execution_count": null,
   "metadata": {},
   "outputs": [],
   "source": [
    "subjects['RAWPRED'] = raw_pred\n",
    "subjects = subjects[['SUBJECT', 'GROUP', 'SEX', 'AGE', 'T1', 'RAWPRED']]\n",
    "subjects_sorted = subjects.sort_values(by=['SUBJECT'])"
   ]
  },
  {
   "cell_type": "code",
   "execution_count": null,
   "metadata": {},
   "outputs": [],
   "source": [
    "with pd.option_context('display.max_rows', None, 'display.max_columns', None):\n",
    "    display(subjects_sorted)"
   ]
  },
  {
   "cell_type": "markdown",
   "metadata": {},
   "source": [
    "## female vs male, same split"
   ]
  },
  {
   "cell_type": "code",
   "execution_count": null,
   "metadata": {},
   "outputs": [],
   "source": [
    "subject_young_male = '009_S_5037'\n",
    "subject_old_male = '014_S_4615'\n",
    "subject_young_female = '082_S_6690'\n",
    "subject_old_female = '027_S_0404'"
   ]
  },
  {
   "cell_type": "code",
   "execution_count": null,
   "metadata": {
    "scrolled": false
   },
   "outputs": [],
   "source": [
    "subjects_plots = [subject_young_male, subject_old_male, subject_young_female, subject_old_female]\n",
    "\n",
    "df_filtered = subjects[subjects.apply(lambda row: row['SUBJECT'] in subjects_plots, axis=1)]\n",
    "display(df_filtered)\n",
    "\n",
    "lrp_path = '{}/{}/{}'.format(lrp_base_path, split, trial)\n",
    "mapAD_avg = load_nifti(os.path.join(lrp_path, 'LRP_AD.nii'))\n",
    "\n",
    "patient_ym_heatmap = load_nifti(os.path.join(lrp_path, subject_young_male + '.nii'))\n",
    "patient_ym_brain = load_nifti(subjects[subjects['SUBJECT'] == subject_young_male]['T1'].iat[0])\n",
    "\n",
    "patient_om_heatmap = load_nifti(os.path.join(lrp_path, subject_old_male + '.nii'))\n",
    "patient_om_brain = load_nifti(subjects[subjects['SUBJECT'] == subject_old_male]['T1'].iat[0])\n",
    "\n",
    "patient_yf_heatmap = load_nifti(os.path.join(lrp_path, subject_young_female + '.nii'))\n",
    "patient_yf_brain = load_nifti(subjects[subjects['SUBJECT'] == subject_young_female]['T1'].iat[0])\n",
    "\n",
    "patient_of_heatmap = load_nifti(os.path.join(lrp_path, subject_old_female + '.nii'))\n",
    "patient_of_brain = load_nifti(subjects[subjects['SUBJECT'] == subject_old_female]['T1'].iat[0])\n",
    "\n",
    "###############\n",
    "###############\n",
    "\n",
    "fig, axes = plt.subplots(2, 4, figsize=(24, 10), sharey=False, sharex=False)\n",
    "vmin, vmax = 90, 99.5\n",
    "\n",
    "# young female\n",
    "fig, ax, im = plot_idv_brain(patient_yf_heatmap, patient_yf_brain, ref_scale=mapAD_avg,\n",
    "                             x_idx=slice(0, 166), y_idx=120, z_idx=slice(16, 154),\n",
    "                             set_nan=False, vmin=vmin, vmax=vmax, fig=fig, ax=axes[0,0]);\n",
    "\n",
    "\n",
    "fig, ax, im = plot_idv_brain(patient_yf_heatmap, patient_yf_brain, ref_scale=mapAD_avg,\n",
    "                             x_idx=85, y_idx=slice(16, 206), z_idx=slice(0, 160),\n",
    "                             set_nan=False, vmin=vmin, vmax=vmax, fig=fig, ax=axes[0,1]);\n",
    "\n",
    "# old female\n",
    "fig, ax, im = plot_idv_brain(patient_of_heatmap, patient_of_brain, ref_scale=mapAD_avg,\n",
    "                             x_idx=slice(0, 166), y_idx=120, z_idx=slice(16, 154),\n",
    "                             set_nan=False, vmin=vmin, vmax=vmax, fig=fig, ax=axes[1,0]);\n",
    "\n",
    "\n",
    "fig, ax, im = plot_idv_brain(patient_of_heatmap, patient_of_brain, ref_scale=mapAD_avg,\n",
    "                             x_idx=85, y_idx=slice(16, 206), z_idx=slice(0, 160),\n",
    "                             set_nan=False, vmin=vmin, vmax=vmax, fig=fig, ax=axes[1,1]);\n",
    "\n",
    "# young male\n",
    "fig, ax, im = plot_idv_brain(patient_ym_heatmap, patient_ym_brain, ref_scale=mapAD_avg,\n",
    "                             x_idx=slice(0, 166), y_idx=120, z_idx=slice(16, 154),\n",
    "                             set_nan=False, vmin=vmin, vmax=vmax, fig=fig, ax=axes[0,2]);\n",
    "\n",
    "\n",
    "fig, ax, im = plot_idv_brain(patient_ym_heatmap, patient_ym_brain, ref_scale=mapAD_avg,\n",
    "                             x_idx=85, y_idx=slice(16, 206), z_idx=slice(0, 160),\n",
    "                             set_nan=False, vmin=vmin, vmax=vmax, fig=fig, ax=axes[0,3]);\n",
    "\n",
    "# old male\n",
    "fig, ax, im = plot_idv_brain(patient_om_heatmap, patient_om_brain, ref_scale=mapAD_avg,\n",
    "                             x_idx=slice(0, 166), y_idx=120, z_idx=slice(16, 154),\n",
    "                             set_nan=False, vmin=vmin, vmax=vmax, fig=fig, ax=axes[1,2]);\n",
    "\n",
    "\n",
    "fig, ax, im = plot_idv_brain(patient_om_heatmap, patient_om_brain, ref_scale=mapAD_avg,\n",
    "                             x_idx=85, y_idx=slice(16, 206), z_idx=slice(0, 160),\n",
    "                             set_nan=False, vmin=vmin, vmax=vmax, fig=fig, ax=axes[1,3]);\n",
    "\n",
    "# labels\n",
    "axes[0,0].text(-15, 45, \"younger\", rotation=\"vertical\", fontsize=28)\n",
    "axes[1,0].text(-15, 55, \"older\", rotation=\"vertical\", fontsize=28)\n",
    "\n",
    "axes[0,0].text(145, 145, \"female\", fontsize=28)\n",
    "axes[0,2].text(150, 145, \"male\", fontsize=28)\n",
    "\n",
    "# colorbar\n",
    "fig.tight_layout()\n",
    "\n",
    "fig.subplots_adjust(top=0.95, right=0.87, hspace=0.02, wspace=0.02)\n",
    "cbar_ax = fig.add_axes([0.88, 0.1, 0.02, 0.8])\n",
    "cbar = fig.colorbar(im, shrink=0.5, ticks=[vmin, vmax], cax=cbar_ax)\n",
    "\n",
    "vmin_val, vmax_val = np.percentile(mapAD_avg, vmin), np.percentile(mapAD_avg, vmax)\n",
    "cbar.set_ticks([vmin_val, vmax_val])\n",
    "cbar.ax.set_yticklabels(['{0:.1f}%'.format(vmin), '{0:.1f}%'.format(vmax)],\n",
    "                        fontsize=20)\n",
    "cbar.set_label('Percentile of average AD patient values', rotation=270, fontsize=22, labelpad=-30)\n",
    "\n",
    "#plt.show()\n",
    "plt.savefig('heatmaps_single_subjects.pdf', bbox_inches=\"tight\")"
   ]
  },
  {
   "cell_type": "markdown",
   "metadata": {},
   "source": [
    "## average male/female AD/HC"
   ]
  },
  {
   "cell_type": "code",
   "execution_count": null,
   "metadata": {},
   "outputs": [],
   "source": [
    "ad_m_heatmap = load_nifti('{}/LRP_AD_m.nii'.format(lrp_base_path))\n",
    "ad_f_heatmap = load_nifti('{}/LRP_AD_f.nii'.format(lrp_base_path))\n",
    "hc_m_heatmap = load_nifti('{}/LRP_HC_m.nii'.format(lrp_base_path))\n",
    "hc_f_heatmap = load_nifti('{}/LRP_HC_f.nii'.format(lrp_base_path))\n",
    "\n",
    "\n",
    "###############\n",
    "###############\n",
    "\n",
    "fig, axes = plt.subplots(2, 4, figsize=(24, 10), sharey=False, sharex=False)\n",
    "vmin, vmax = 90, 99.5\n",
    "\n",
    "# ad female\n",
    "fig, ax, im = plot_idv_brain(ad_f_heatmap, mni_brain, ref_scale=ad_f_heatmap,\n",
    "                             x_idx=slice(0, 166), y_idx=120, z_idx=slice(16, 154),\n",
    "                             set_nan=False, vmin=vmin, vmax=vmax, fig=fig, ax=axes[0,0]);\n",
    "\n",
    "\n",
    "fig, ax, im = plot_idv_brain(ad_f_heatmap, mni_brain, ref_scale=ad_f_heatmap,\n",
    "                             x_idx=85, y_idx=slice(16, 206), z_idx=slice(0, 160),\n",
    "                             set_nan=False, vmin=vmin, vmax=vmax, fig=fig, ax=axes[0,1]);\n",
    "\n",
    "# ad male\n",
    "fig, ax, im = plot_idv_brain(ad_m_heatmap, mni_brain, ref_scale=ad_f_heatmap,\n",
    "                             x_idx=slice(0, 166), y_idx=120, z_idx=slice(16, 154),\n",
    "                             set_nan=False, vmin=vmin, vmax=vmax, fig=fig, ax=axes[1,0]);\n",
    "\n",
    "\n",
    "fig, ax, im = plot_idv_brain(ad_m_heatmap, mni_brain, ref_scale=ad_f_heatmap,\n",
    "                             x_idx=85, y_idx=slice(16, 206), z_idx=slice(0, 160),\n",
    "                             set_nan=False, vmin=vmin, vmax=vmax, fig=fig, ax=axes[1,1]);\n",
    "\n",
    "# hc female\n",
    "fig, ax, im = plot_idv_brain(hc_f_heatmap, mni_brain, ref_scale=ad_f_heatmap,\n",
    "                             x_idx=slice(0, 166), y_idx=120, z_idx=slice(16, 154),\n",
    "                             set_nan=False, vmin=vmin, vmax=vmax, fig=fig, ax=axes[0,2]);\n",
    "\n",
    "\n",
    "fig, ax, im = plot_idv_brain(hc_f_heatmap, mni_brain, ref_scale=ad_f_heatmap,\n",
    "                             x_idx=85, y_idx=slice(16, 206), z_idx=slice(0, 160),\n",
    "                             set_nan=False, vmin=vmin, vmax=vmax, fig=fig, ax=axes[0,3]);\n",
    "\n",
    "# hc male\n",
    "fig, ax, im = plot_idv_brain(hc_m_heatmap, mni_brain, ref_scale=ad_f_heatmap,\n",
    "                             x_idx=slice(0, 166), y_idx=120, z_idx=slice(16, 154),\n",
    "                             set_nan=False, vmin=vmin, vmax=vmax, fig=fig, ax=axes[1,2]);\n",
    "\n",
    "\n",
    "fig, ax, im = plot_idv_brain(hc_m_heatmap, mni_brain, ref_scale=ad_f_heatmap,\n",
    "                             x_idx=85, y_idx=slice(16, 206), z_idx=slice(0, 160),\n",
    "                             set_nan=False, vmin=vmin, vmax=vmax, fig=fig, ax=axes[1,3]);\n",
    "\n",
    "# labels\n",
    "axes[0,0].text(-15, 45, \"female\", rotation=\"vertical\", fontsize=36)\n",
    "axes[1,0].text(-15, 55, \"male\", rotation=\"vertical\", fontsize=36)\n",
    "\n",
    "axes[0,0].text(155, 145, \"AD\", fontsize=32)\n",
    "axes[0,2].text(157, 145, \"HC\", fontsize=32)\n",
    "\n",
    "# colorbar\n",
    "fig.tight_layout()\n",
    "\n",
    "fig.subplots_adjust(top=0.95, right=0.87, hspace=0.02, wspace=0.02)\n",
    "cbar_ax = fig.add_axes([0.88, 0.1, 0.02, 0.8])\n",
    "cbar = fig.colorbar(im, shrink=0.5, ticks=[vmin, vmax], cax=cbar_ax)\n",
    "\n",
    "vmin_val, vmax_val = np.percentile(ad_f_heatmap, vmin), np.percentile(ad_f_heatmap, vmax)\n",
    "cbar.set_ticks([vmin_val, vmax_val])\n",
    "cbar.ax.set_yticklabels(['{0:.1f}%'.format(vmin), '{0:.1f}%'.format(vmax)],\n",
    "                        fontsize=20)\n",
    "cbar.set_label('Percentile of average AD patient values', rotation=270, fontsize=22, labelpad=-30)\n",
    "\n",
    "#plt.show()\n",
    "plt.savefig('heatmaps_average.pdf', bbox_inches=\"tight\")"
   ]
  }
 ],
 "metadata": {
  "kernelspec": {
   "display_name": "Python 3",
   "language": "python",
   "name": "python3"
  },
  "language_info": {
   "codemirror_mode": {
    "name": "ipython",
    "version": 3
   },
   "file_extension": ".py",
   "mimetype": "text/x-python",
   "name": "python",
   "nbconvert_exporter": "python",
   "pygments_lexer": "ipython3",
   "version": "3.7.4"
  }
 },
 "nbformat": 4,
 "nbformat_minor": 2
}
