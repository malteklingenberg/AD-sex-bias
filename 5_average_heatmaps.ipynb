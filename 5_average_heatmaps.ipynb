{
 "cells": [
  {
   "cell_type": "markdown",
   "metadata": {},
   "source": [
    "##### Import packages"
   ]
  },
  {
   "cell_type": "code",
   "execution_count": null,
   "metadata": {},
   "outputs": [],
   "source": [
    "import os\n",
    "import torch \n",
    "import pickle\n",
    "import nibabel\n",
    "\n",
    "import h5py\n",
    "import numpy as np\n",
    "import pandas as pd\n",
    "    \n",
    "from collections import OrderedDict, defaultdict"
   ]
  },
  {
   "cell_type": "code",
   "execution_count": null,
   "metadata": {},
   "outputs": [],
   "source": [
    "####################\n",
    "#### file paths ####\n",
    "####################\n",
    "\n",
    "## INPUT FILE PATHS\n",
    "# data_base_path as in the previous notebooks, lrp_base_path as created by 4_calculate_LRP_heatmaps\n",
    "data_base_path = '/path/to/data'\n",
    "lrp_base_path = '/path/to/lrp'\n",
    "splits = ['split_0', 'split_1', 'split_2']"
   ]
  },
  {
   "cell_type": "code",
   "execution_count": null,
   "metadata": {},
   "outputs": [],
   "source": [
    "def load_nifti(file_path, mask=None, z_factor=None, remove_nan=True):\n",
    "    \"\"\"Load a 3D array from a NIFTI file.\"\"\"\n",
    "    img = nibabel.load(file_path)\n",
    "    struct_arr = np.array(img.get_data())\n",
    "\n",
    "    if remove_nan:\n",
    "        struct_arr = np.nan_to_num(struct_arr)\n",
    "    if mask is not None:\n",
    "        struct_arr *= mask\n",
    "    if z_factor is not None:\n",
    "        struct_arr = np.around(zoom(struct_arr, z_factor), 0)\n",
    "\n",
    "    return struct_arr\n",
    "\n",
    "\n",
    "def save_nifti(file_path, struct_arr):\n",
    "    \"\"\"Save a 3D array to a NIFTI file.\"\"\"\n",
    "    img = nibabel.Nifti1Image(struct_arr, np.eye(4))\n",
    "    nibabel.save(img, file_path)\n"
   ]
  },
  {
   "cell_type": "markdown",
   "metadata": {},
   "source": [
    "### average heatmaps over all runs from all splits"
   ]
  },
  {
   "cell_type": "code",
   "execution_count": null,
   "metadata": {},
   "outputs": [],
   "source": [
    "mri_shape = (182, 218, 182)\n",
    "mean_map_AD_m, mean_map_HC_m = np.zeros(mri_shape), np.zeros(mri_shape)\n",
    "mean_map_AD_f, mean_map_HC_f = np.zeros(mri_shape), np.zeros(mri_shape)\n",
    "counts = defaultdict(int)\n",
    "\n",
    "for split in splits:\n",
    "    path = '{}/{}'.format(lrp_base_path, split)\n",
    "    \n",
    "    subjects_csv = '{}/{}_test.csv'.format(data_base_path, split[:-4])\n",
    "    subjects = pd.read_csv(subjects_csv)  \n",
    "    \n",
    "    for run in range(5):\n",
    "        print('calculating mean maps, processing split {}, run {}'.format(split, run))\n",
    "        for r in subjects.iterrows():\n",
    "            print(\"subject {}/{}        \".format(r[0]+1, len(subjects)), end=\"\\r\")\n",
    "            row = r[1]\n",
    "            subject = row['SUBJECT']\n",
    "            case = row['GROUP'] + row['SEX']\n",
    "            \n",
    "            counts[case] += 1\n",
    "            if case == 'ADF':\n",
    "                mean_map_AD_f += load_nifti(os.path.join(path, '{}/{}.nii'.format(run, subject)))\n",
    "            elif case == 'ADM':\n",
    "                mean_map_AD_m += load_nifti(os.path.join(path, '{}/{}.nii'.format(run, subject)))\n",
    "            elif case == 'CNF':\n",
    "                mean_map_HC_f += load_nifti(os.path.join(path, '{}/{}.nii'.format(run, subject)))\n",
    "            elif case == 'CNM':\n",
    "                mean_map_HC_m += load_nifti(os.path.join(path, '{}/{}.nii'.format(run, subject)))\n",
    "\n",
    "print(\"\\n\", counts)   \n",
    "mean_map_AD_f /= counts['ADF']\n",
    "mean_map_AD_m /= counts['ADM']\n",
    "mean_map_HC_f /= counts['CNF']\n",
    "mean_map_HC_m /= counts['CNM']\n",
    "\n",
    "save_nifti('{}/LRP_AD_f.nii'.format(lrp_base_path), mean_map_AD_f)\n",
    "save_nifti('{}/LRP_AD_m.nii'.format(lrp_base_path), mean_map_AD_m)\n",
    "save_nifti('{}/LRP_HC_f.nii'.format(lrp_base_path), mean_map_HC_f)\n",
    "save_nifti('{}/LRP_HC_m.nii'.format(lrp_base_path), mean_map_HC_m)"
   ]
  }
 ],
 "metadata": {
  "kernelspec": {
   "display_name": "Python 3",
   "language": "python",
   "name": "python3"
  },
  "language_info": {
   "codemirror_mode": {
    "name": "ipython",
    "version": 3
   },
   "file_extension": ".py",
   "mimetype": "text/x-python",
   "name": "python",
   "nbconvert_exporter": "python",
   "pygments_lexer": "ipython3",
   "version": "3.7.4"
  }
 },
 "nbformat": 4,
 "nbformat_minor": 2
}
