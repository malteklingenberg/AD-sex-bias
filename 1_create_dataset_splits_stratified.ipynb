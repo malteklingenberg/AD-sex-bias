{
 "cells": [
  {
   "cell_type": "code",
   "execution_count": null,
   "metadata": {},
   "outputs": [],
   "source": [
    "import os\n",
    "import matplotlib.pyplot as plt\n",
    "import numpy as np\n",
    "import pandas as pd\n",
    "import time, datetime\n",
    "\n",
    "import nibabel as nib\n",
    "from sklearn.model_selection import train_test_split\n",
    "from scipy.stats import ttest_ind\n",
    "from tabulate import tabulate"
   ]
  },
  {
   "cell_type": "code",
   "execution_count": null,
   "metadata": {},
   "outputs": [],
   "source": [
    "####################\n",
    "#### file paths ####\n",
    "####################\n",
    "\n",
    "## INPUT FILES\n",
    "# participants.csv\n",
    "data_table_path = \"/<path to>/participants.csv\"\n",
    "# roster_CN.csv (from 0_identify_converters_cn_to_mci_or_ad)\n",
    "roster_cn_path = \"/<path to>/roster_CN.csv\"\n",
    "\n",
    "## OUTPUT FILE PATH\n",
    "output_path = \"/<path>\"\n"
   ]
  },
  {
   "cell_type": "code",
   "execution_count": null,
   "metadata": {},
   "outputs": [],
   "source": [
    "# set random state seed\n",
    "r = 81\n",
    "numpy_seed = 427\n",
    "np.random.seed(numpy_seed)"
   ]
  },
  {
   "cell_type": "code",
   "execution_count": null,
   "metadata": {},
   "outputs": [],
   "source": [
    "df = pd.read_csv(data_table_path)"
   ]
  },
  {
   "cell_type": "markdown",
   "metadata": {},
   "source": [
    "### clean the data table"
   ]
  },
  {
   "cell_type": "code",
   "execution_count": null,
   "metadata": {},
   "outputs": [],
   "source": [
    "print(\"images\")\n",
    "print(len(df[df['GROUP'] == 'MCI']))\n",
    "print(len(df[df['GROUP'] == 'EMCI']))\n",
    "print(len(df[df['GROUP'] == 'LMCI']))\n",
    "print(len(df[df['GROUP'] == 'SMC']))\n",
    "print(\"\\nsubjects\")\n",
    "print(len(df[df['GROUP'] == 'MCI']['SUBJECT'].unique()))\n",
    "print(len(df[df['GROUP'] == 'EMCI']['SUBJECT'].unique()))\n",
    "print(len(df[df['GROUP'] == 'LMCI']['SUBJECT'].unique()))\n",
    "print(len(df[df['GROUP'] == 'SMC']['SUBJECT'].unique()))"
   ]
  },
  {
   "cell_type": "code",
   "execution_count": null,
   "metadata": {},
   "outputs": [],
   "source": [
    "# remove all MCI subjects\n",
    "df = df[df['GROUP'] != 'MCI']\n",
    "df = df[df['GROUP'] != 'EMCI']\n",
    "df = df[df['GROUP'] != 'LMCI']\n",
    "df = df[df['GROUP'] != 'SMC']\n",
    "df = df[df['GROUP'] != 'Patient']"
   ]
  },
  {
   "cell_type": "markdown",
   "metadata": {},
   "source": [
    "### remove CN subjects which converted during the study"
   ]
  },
  {
   "cell_type": "code",
   "execution_count": null,
   "metadata": {},
   "outputs": [],
   "source": [
    "roster_cn = pd.read_csv(roster_cn_path)\n",
    "roster_cn.head(n=5)"
   ]
  },
  {
   "cell_type": "code",
   "execution_count": null,
   "metadata": {},
   "outputs": [],
   "source": [
    "print(len(df[df['GROUP']=='CN']['SUBJECT'].unique()))\n",
    "print(len(df[df['GROUP']=='AD']['SUBJECT'].unique()))"
   ]
  },
  {
   "cell_type": "code",
   "execution_count": null,
   "metadata": {},
   "outputs": [],
   "source": [
    "converters = list(roster_cn[roster_cn['CONVERSION']==True]['PTID'])\n",
    "df = df[df.apply(lambda row: row['SUBJECT'] not in converters, axis=1)]"
   ]
  },
  {
   "cell_type": "code",
   "execution_count": null,
   "metadata": {},
   "outputs": [],
   "source": [
    "print(len(df[df['GROUP']=='CN']['SUBJECT'].unique()))\n",
    "print(len(df[df['GROUP']=='AD']['SUBJECT'].unique()))"
   ]
  },
  {
   "cell_type": "markdown",
   "metadata": {},
   "source": [
    "### add column for stratification during data split"
   ]
  },
  {
   "cell_type": "code",
   "execution_count": null,
   "metadata": {},
   "outputs": [],
   "source": [
    "df['STRAT'] = (df['AGE'] // 5) * 5 # round age down to 5-year steps\n",
    "df['STRAT'] = df['SEX'] + df['STRAT'].astype('str')"
   ]
  },
  {
   "cell_type": "code",
   "execution_count": null,
   "metadata": {},
   "outputs": [],
   "source": [
    "df[['SUBJECT', 'GROUP', 'SEX', 'AGE', 'STRAT']]"
   ]
  },
  {
   "cell_type": "markdown",
   "metadata": {},
   "source": [
    "### ensure balanced classes"
   ]
  },
  {
   "cell_type": "code",
   "execution_count": null,
   "metadata": {},
   "outputs": [],
   "source": [
    "def demographics(df):\n",
    "    df_temp = df[['SUBJECT', 'SEX', 'AGE']]\n",
    "    df_temp = df.sort_values(by='AGE').drop_duplicates(subset='SUBJECT', keep='first')\n",
    "    \n",
    "    nall    = len(df_temp)\n",
    "    nfemale = len(df_temp[df_temp['SEX'] == 'F'])\n",
    "    nmale   = len(df_temp[df_temp['SEX'] == 'M'])\n",
    "    meanall    = np.mean(df_temp['AGE'])\n",
    "    stdall     = np.std( df_temp['AGE'])\n",
    "    meanfemale = np.mean(df_temp[df_temp['SEX'] == 'F']['AGE'])\n",
    "    stdfemale  = np.std( df_temp[df_temp['SEX'] == 'F']['AGE'])\n",
    "    meanmale   = np.mean(df_temp[df_temp['SEX'] == 'M']['AGE'])\n",
    "    stdmale    = np.std( df_temp[df_temp['SEX'] == 'M']['AGE'])\n",
    "    \n",
    "    print(\"{:4} female subjects, age {:0.1f} +- {:0.1f} years\".format(nfemale, meanfemale, stdfemale))\n",
    "    print(\"{:4}   male subjects, age {:0.1f} +- {:0.1f} years\".format(nmale, meanmale, stdmale))\n",
    "    print(\"                          ------------\")\n",
    "    print(\"        all subjects: age {:0.1f} +- {:0.1f} years\".format(meanall, stdall))\n",
    "    \n",
    "    \n",
    "\n",
    "def demographics_plot(df, dx=\"all\"):\n",
    "    print(\"##############################\\ndemographics of {} subjects\".format(dx))\n",
    "    demographics(df)\n",
    "    \n",
    "    df_temp = df[['SUBJECT', 'SEX', 'AGE']]\n",
    "    df_temp = df.sort_values(by='AGE').drop_duplicates(subset='SUBJECT', keep='first')\n",
    "    \n",
    "    #nall    = len(df_temp)\n",
    "    #nfemale = len(df_temp[df_temp['SEX'] == 'F'])\n",
    "    #nmale   = len(df_temp[df_temp['SEX'] == 'M'])\n",
    "    #meanall    = np.mean(df_temp['AGE'])\n",
    "    #stdall     = np.std( df_temp['AGE'])\n",
    "    #meanfemale = np.mean(df_temp[df_temp['SEX'] == 'F']['AGE'])\n",
    "    #stdfemale  = np.std( df_temp[df_temp['SEX'] == 'F']['AGE'])\n",
    "    #meanmale   = np.mean(df_temp[df_temp['SEX'] == 'M']['AGE'])\n",
    "    #stdmale    = np.std( df_temp[df_temp['SEX'] == 'M']['AGE'])\n",
    "    \n",
    "    #print(\"{:4} female subjects, age {:0.1f} +- {:0.1f} years\".format(nfemale, meanfemale, stdfemale))\n",
    "    #print(\"{:4}   male subjects, age {:0.1f} +- {:0.1f} years\".format(nmale, meanmale, stdmale))\n",
    "    #print(\"                          ------------\")\n",
    "    #print(\"        all subjects: age {:0.1f} +- {:0.1f} years\".format(meanall, stdall))\n",
    "    \n",
    "    # age histograms\n",
    "    # note: use age at first scan if multiple scans per patient\n",
    "    fig, (ax1, ax2) = plt.subplots(1, 2, sharey='row', figsize=(12, 5))\n",
    "    \n",
    "    ax1.hist(df_temp[df_temp['SEX'] == 'F']['AGE'], bins = range(50, 105, 5))\n",
    "    ax1.set_title('female subjects')\n",
    "    ax1.set_xlabel('age at baseline')\n",
    "    ax1.set_xlim(50, 100)\n",
    "    ax1.grid(which='both')\n",
    "    \n",
    "    ax2.hist(df_temp[df_temp['SEX'] == 'M']['AGE'], bins = range(50, 105, 5))\n",
    "    ax2.set_title('male subjects')\n",
    "    ax2.set_xlabel('age at baseline')\n",
    "    ax2.set_xlim(50, 100)\n",
    "    ax2.grid(which='both')\n",
    "    \n",
    "    plt.show()"
   ]
  },
  {
   "cell_type": "code",
   "execution_count": null,
   "metadata": {},
   "outputs": [],
   "source": [
    "df = df[df['AGE'] > 0] # remove subjects with no given age\n",
    "subjects_AD = df[df['GROUP'] == 'AD']['SUBJECT'].unique()\n",
    "subjects_CN = df[df['GROUP'] == 'CN']['SUBJECT'].unique()\n",
    "subjects_CN = [p for p in subjects_CN if p not in subjects_AD]\n",
    "\n",
    "print(\"AD subjects: \", len(subjects_AD))\n",
    "print(\"CN subjects: \", len(subjects_CN))"
   ]
  },
  {
   "cell_type": "code",
   "execution_count": null,
   "metadata": {},
   "outputs": [],
   "source": [
    "print(\"CN:  \", ttest_subject_age(df[df['GROUP'] == 'CN']))\n",
    "print(\"AD:  \", ttest_subject_age(df[df['GROUP'] == 'AD']))"
   ]
  },
  {
   "cell_type": "code",
   "execution_count": null,
   "metadata": {},
   "outputs": [],
   "source": [
    "demographics_plot(df[df['GROUP'] == 'AD'], 'AD')\n",
    "demographics_plot(df[df['GROUP'] == 'CN'], 'CN')"
   ]
  },
  {
   "cell_type": "markdown",
   "metadata": {},
   "source": [
    "#### check: avg scans / subject"
   ]
  },
  {
   "cell_type": "code",
   "execution_count": null,
   "metadata": {},
   "outputs": [],
   "source": [
    "scans_male = df[df['SEX'] == 'M']\n",
    "scans_female = df[df['SEX'] == 'F']\n",
    "\n",
    "print('male:', len(scans_male)/len(scans_male.drop_duplicates(subset='SUBJECT', keep='first')), 'scans/subject')\n",
    "print('female:', len(scans_female)/len(scans_female.drop_duplicates(subset='SUBJECT', keep='first')), 'scans/subject')"
   ]
  },
  {
   "cell_type": "code",
   "execution_count": null,
   "metadata": {},
   "outputs": [],
   "source": [
    "from collections import Counter\n",
    "\n",
    "images_per_subject = Counter(list(df['SUBJECT']))\n",
    "image_counts = Counter(dict(images_per_subject).values())\n",
    "image_counts_sorted = sorted([(k, image_counts[k]) for k in image_counts.keys()], key = lambda x:x[0], reverse=True)\n",
    "\n",
    "for k, v in image_counts_sorted:\n",
    "    print(\"{:2} images: {:3} subjects\".format(k, v))\n"
   ]
  },
  {
   "cell_type": "code",
   "execution_count": null,
   "metadata": {
    "scrolled": false
   },
   "outputs": [],
   "source": [
    "# for each (age, dx)-group, choose the same number of male and female subjects\n",
    "# (i.e. drop excessive subjects from the table)\n",
    "# example: 30 female subjects, 25 male subjects -> drop 5 female subjects\n",
    "\n",
    "df_copy = df.copy()\n",
    "df_copy = df_copy.sort_values(by='AGE').drop_duplicates(subset='SUBJECT', keep='first')\n",
    "subjects_to_drop = []\n",
    "\n",
    "for group in ['AD', 'CN']:\n",
    "    for age in range(50, 100, 5):\n",
    "        df_temp = df_copy[df_copy['GROUP'] == group]\n",
    "        df_temp = df_temp[df_temp['AGE'] >= age]\n",
    "        df_temp = df_temp[df_temp['AGE'] < age + 5]\n",
    "        \n",
    "        if age < 60 or age > 89:\n",
    "            print(age, \"to\", age+4, \": dropping all\")\n",
    "            subjects_to_drop.extend(df_temp['SUBJECT'])\n",
    "            continue\n",
    "        \n",
    "        df_temp_f = df_temp[df_temp['SEX'] == 'F']\n",
    "        df_temp_m = df_temp[df_temp['SEX'] == 'M']\n",
    "        \n",
    "        print(\"-----------------------------\")\n",
    "        print(group, age, \"to\", age + 4)\n",
    "        print(len(df_temp_f), \"female\", len(df_temp_m), \"male\")\n",
    "        # more female than male\n",
    "        if len(df_temp_f) > len(df_temp_m):\n",
    "            diff = len(df_temp_f) - len(df_temp_m)\n",
    "            drop = np.random.choice(df_temp_f['SUBJECT'], diff, replace=False)\n",
    "            print(\"dropping\", diff, \"female subjects:\")\n",
    "            print(drop)\n",
    "            subjects_to_drop.extend(drop)\n",
    "            \n",
    "        # more male than female\n",
    "        elif len(df_temp_m) > len(df_temp_f):\n",
    "            diff = len(df_temp_m) - len(df_temp_f)\n",
    "            drop = np.random.choice(df_temp_m['SUBJECT'], diff, replace=False)\n",
    "            print(\"dropping\", diff, \"male subjects:\")\n",
    "            print(drop)\n",
    "            subjects_to_drop.extend(drop)\n",
    "            \n",
    "        # else (same number), no subjects are dropped"
   ]
  },
  {
   "cell_type": "code",
   "execution_count": null,
   "metadata": {},
   "outputs": [],
   "source": [
    "df = df[df.apply(lambda row: not row['SUBJECT'] in subjects_to_drop, axis=1)]\n",
    "demographics_plot(df[df['GROUP'] == 'AD'], 'AD')\n",
    "demographics_plot(df[df['GROUP'] == 'CN'], 'CN')"
   ]
  },
  {
   "cell_type": "code",
   "execution_count": null,
   "metadata": {},
   "outputs": [],
   "source": [
    "def ttest_subject_age(df):\n",
    "    df = df.sort_values(by='AGE').drop_duplicates(subset='SUBJECT', keep='first')\n",
    "    ages_f = df[df['SEX'] == 'F']['AGE']\n",
    "    ages_m = df[df['SEX'] == 'M']['AGE']\n",
    "    return ttest_ind(ages_f, ages_m)\n",
    "\n",
    "def ttest_image_age(df):\n",
    "    ages_f = df[df['SEX'] == 'F']['AGE']\n",
    "    ages_m = df[df['SEX'] == 'M']['AGE']\n",
    "    return ttest_ind(ages_f, ages_m)"
   ]
  },
  {
   "cell_type": "code",
   "execution_count": null,
   "metadata": {},
   "outputs": [],
   "source": [
    "print(\"all: \", ttest_subject_age(df))\n",
    "print(\"CN:  \", ttest_subject_age(df[df['GROUP'] == 'CN']))\n",
    "print(\"AD:  \", ttest_subject_age(df[df['GROUP'] == 'AD']))"
   ]
  },
  {
   "cell_type": "code",
   "execution_count": null,
   "metadata": {},
   "outputs": [],
   "source": [
    "df.to_csv(os.path.join(output_path, 'np{}_r{}_all.csv'.format(numpy_seed, r)))"
   ]
  },
  {
   "cell_type": "markdown",
   "metadata": {},
   "source": [
    "## create train-test split"
   ]
  },
  {
   "cell_type": "code",
   "execution_count": null,
   "metadata": {},
   "outputs": [],
   "source": [
    "def print_df_stats(df, df_train, df_val, df_test):\n",
    "    \"\"\"Print some statistics about the patients and images in a dataset.\"\"\"\n",
    "    headers = ['Images', '-> AD', '-> CN', 'Patients', '-> AD', '-> CN']\n",
    "\n",
    "    def get_stats(df):\n",
    "        df_ad = df[df['GROUP'] == 'AD']\n",
    "        df_cn = df[df['GROUP'] == 'CN']\n",
    "        return [len(df), len(df_ad), len(df_cn), len(df['SUBJECT'].unique()), len(df_ad['SUBJECT'].unique()), len(df_cn['SUBJECT'].unique())]\n",
    "\n",
    "    stats = []\n",
    "    stats.append(['All'] + get_stats(df))\n",
    "    stats.append(['Train'] + get_stats(df_train))\n",
    "    stats.append(['Val'] + get_stats(df_val))\n",
    "    stats.append(['Test'] + get_stats(df_test))\n",
    "\n",
    "    print(tabulate(stats, headers=headers))\n",
    "    print()"
   ]
  },
  {
   "cell_type": "code",
   "execution_count": null,
   "metadata": {},
   "outputs": [],
   "source": [
    "# patient-wise train-test-split\n",
    "subjects_AD = df[df['GROUP'] == 'AD'][['SUBJECT', 'AGE', 'STRAT']].sort_values(by='AGE').drop_duplicates(subset='SUBJECT', keep='first')\n",
    "subjects_CN = df[df['GROUP'] == 'CN'][['SUBJECT', 'AGE', 'STRAT']].sort_values(by='AGE').drop_duplicates(subset='SUBJECT', keep='first')\n",
    "\n",
    "test_size_ad = int(0.15*len(subjects_AD))\n",
    "test_size_cn = int(0.15*len(subjects_CN))\n",
    "\n",
    "subjects_AD_train, subjects_AD_test = train_test_split(subjects_AD, test_size=test_size_ad, stratify=subjects_AD[['STRAT']], random_state=r)\n",
    "subjects_AD_train, subjects_AD_val = train_test_split(subjects_AD_train, test_size=test_size_ad, stratify=subjects_AD_train[['STRAT']], random_state=r)\n",
    "subjects_CN_train, subjects_CN_test = train_test_split(subjects_CN, test_size=test_size_cn, stratify=subjects_CN[['STRAT']], random_state=r)\n",
    "subjects_CN_train, subjects_CN_val = train_test_split(subjects_CN_train, test_size=test_size_cn, stratify=subjects_CN_train[['STRAT']], random_state=r)\n",
    "\n",
    "subjects_train = np.concatenate([subjects_AD_train, subjects_CN_train])\n",
    "subjects_val = np.concatenate([subjects_AD_val, subjects_CN_val])\n",
    "subjects_test = np.concatenate([subjects_AD_test, subjects_CN_test])\n",
    "\n",
    "# compile train and val dfs based on subjects\n",
    "df_train = df[df.apply(lambda row: row['SUBJECT'] in subjects_train, axis=1)]\n",
    "df_val = df[df.apply(lambda row: row['SUBJECT'] in subjects_val, axis=1)]\n",
    "df_test = df[df.apply(lambda row: row['SUBJECT'] in subjects_test, axis=1)]\n",
    "\n",
    "# keep only baseline image for test set\n",
    "#df_val = df_val.sort_values(by='AGE').drop_duplicates(subset='SUBJECT', keep='first')\n",
    "df_test = df_test.sort_values(by='AGE').drop_duplicates(subset='SUBJECT', keep='first')\n",
    "\n",
    "print_df_stats(df, df_train, df_val, df_test)"
   ]
  },
  {
   "cell_type": "code",
   "execution_count": null,
   "metadata": {},
   "outputs": [],
   "source": [
    "print(\"all:   \"); demographics(df)\n",
    "print(\"\\n\\ntrain: \"); demographics(df_train)\n",
    "print(\"\\n\\nval:   \"); demographics(df_val)\n",
    "print(\"\\n\\ntest:  \"); demographics(df_test)"
   ]
  },
  {
   "cell_type": "code",
   "execution_count": null,
   "metadata": {},
   "outputs": [],
   "source": [
    "df_test_m = df_test[df_test['SEX'] == 'M']\n",
    "df_test_f = df_test[df_test['SEX'] == 'F']\n",
    "\n",
    "print(\"test images: {} male, {} female\".format(len(df_test_m), len(df_test_f)))"
   ]
  },
  {
   "cell_type": "code",
   "execution_count": null,
   "metadata": {},
   "outputs": [],
   "source": [
    "def demographics_images(df):\n",
    "    df_temp = df[['SUBJECT', 'SEX', 'AGE']]\n",
    "    #df_temp = df.sort_values(by='AGE').drop_duplicates(subset='SUBJECT', keep='first')\n",
    "    \n",
    "    nall    = len(df_temp)\n",
    "    nfemale = len(df_temp[df_temp['SEX'] == 'F'])\n",
    "    nmale   = len(df_temp[df_temp['SEX'] == 'M'])\n",
    "    meanall    = np.mean(df_temp['AGE'])\n",
    "    stdall     = np.std( df_temp['AGE'])\n",
    "    meanfemale = np.mean(df_temp[df_temp['SEX'] == 'F']['AGE'])\n",
    "    stdfemale  = np.std( df_temp[df_temp['SEX'] == 'F']['AGE'])\n",
    "    meanmale   = np.mean(df_temp[df_temp['SEX'] == 'M']['AGE'])\n",
    "    stdmale    = np.std( df_temp[df_temp['SEX'] == 'M']['AGE'])\n",
    "    \n",
    "    print(\"{:4} female images, age {:0.1f} +- {:0.1f} years\".format(nfemale, meanfemale, stdfemale))\n",
    "    print(\"{:4}   male images, age {:0.1f} +- {:0.1f} years\".format(nmale, meanmale, stdmale))\n",
    "    print(\"                          ------------\")\n",
    "    print(\"        all images: age {:0.1f} +- {:0.1f} years\".format(meanall, stdall))"
   ]
  },
  {
   "cell_type": "code",
   "execution_count": null,
   "metadata": {},
   "outputs": [],
   "source": [
    "print(\"all:   \"); demographics_images(df)\n",
    "print(\"\\n\\ntrain: \"); demographics_images(df_train)\n",
    "print(\"\\n\\nval:   \"); demographics_images(df_val)\n",
    "print(\"\\n\\ntest:  \"); demographics_images(df_test)"
   ]
  },
  {
   "cell_type": "code",
   "execution_count": null,
   "metadata": {},
   "outputs": [],
   "source": [
    "ttest_image_age(df_test)"
   ]
  },
  {
   "cell_type": "code",
   "execution_count": null,
   "metadata": {},
   "outputs": [],
   "source": [
    "# as with subjects, drop images from train and val sets \n",
    "# to balance number of images from each sex\n",
    "def balance_images(df):\n",
    "    df_copy = df.copy()\n",
    "    images_to_drop = []\n",
    "\n",
    "    for group in ['AD', 'CN']:\n",
    "        for age in range(50, 100, 5):\n",
    "            df_temp = df_copy[df_copy['GROUP'] == group]\n",
    "            df_temp = df_temp[df_temp['AGE'] >= age]\n",
    "            df_temp = df_temp[df_temp['AGE'] < age + 5]\n",
    "        \n",
    "            if age < 60 or age > 89:\n",
    "                print(age, \"to\", age+4, \": dropping all\")\n",
    "                images_to_drop.extend(df_temp['IMAGEUID'])\n",
    "                continue\n",
    "        \n",
    "            df_temp_f = df_temp[df_temp['SEX'] == 'F']\n",
    "            df_temp_m = df_temp[df_temp['SEX'] == 'M']\n",
    "        \n",
    "            print(group, age, \"to\", age + 4, end=\";    \")\n",
    "            print(len(df_temp_f), \"female\", len(df_temp_m), \"male\", end=\";    \")\n",
    "            # more female than male\n",
    "            if len(df_temp_f) > len(df_temp_m):\n",
    "                diff = len(df_temp_f) - len(df_temp_m)\n",
    "                drop = np.random.choice(df_temp_f['IMAGEUID'], diff, replace=False)\n",
    "                print(\"dropping\", diff, \"female images\")\n",
    "                #print(drop)\n",
    "                images_to_drop.extend(drop)\n",
    "            \n",
    "            # more male than female\n",
    "            elif len(df_temp_m) > len(df_temp_f):\n",
    "                diff = len(df_temp_m) - len(df_temp_f)\n",
    "                drop = np.random.choice(df_temp_m['IMAGEUID'], diff, replace=False)\n",
    "                print(\"dropping\", diff, \"male images\")\n",
    "                #print(drop)\n",
    "                images_to_drop.extend(drop)\n",
    "            \n",
    "            # else (same number), no subjects are dropped\n",
    "    return df[df.apply(lambda row: not row['IMAGEUID'] in images_to_drop, axis=1)]"
   ]
  },
  {
   "cell_type": "code",
   "execution_count": null,
   "metadata": {},
   "outputs": [],
   "source": [
    "print(\"training set\")\n",
    "df_train = balance_images(df_train)\n",
    "print(\"train:\")\n",
    "demographics_images(df_train)\n",
    "print(ttest_image_age(df_train))\n",
    "print(\"\\n\\n\\nvalidation set\")\n",
    "df_val = balance_images(df_val)\n",
    "print(\"val:\")\n",
    "demographics_images(df_val)\n",
    "print(ttest_image_age(df_val))"
   ]
  },
  {
   "cell_type": "code",
   "execution_count": null,
   "metadata": {},
   "outputs": [],
   "source": [
    "print_df_stats(df, df_train, df_val, df_test)"
   ]
  },
  {
   "cell_type": "markdown",
   "metadata": {},
   "source": [
    "### save test dataset info"
   ]
  },
  {
   "cell_type": "code",
   "execution_count": null,
   "metadata": {},
   "outputs": [],
   "source": [
    "df_test.to_csv(os.path.join(output_path, 'np{}_r{}_test.csv'.format(numpy_seed, r)))"
   ]
  },
  {
   "cell_type": "markdown",
   "metadata": {},
   "source": [
    "## create datasets"
   ]
  },
  {
   "cell_type": "code",
   "execution_count": null,
   "metadata": {},
   "outputs": [],
   "source": [
    "# load images in matrix\n",
    "def create_dataset(dataset):\n",
    "    data_matrix = [] \n",
    "    labels = [] \n",
    "    for idx, row in dataset.iterrows():\n",
    "        path = row[\"T1\"]\n",
    "        struct_arr = np.NAN\n",
    "        scan = nib.load(path)\n",
    "        struct_arr = scan.get_data().astype(np.float32)\n",
    "        data_matrix.append(struct_arr)\n",
    "        labels.append((row['GROUP'] == 'AD') *1)      \n",
    "    return np.array(data_matrix), np.array(labels)"
   ]
  },
  {
   "cell_type": "code",
   "execution_count": null,
   "metadata": {},
   "outputs": [],
   "source": [
    "print(\"Starting at \" + time.ctime())\n",
    "start = time.time()\n",
    "\n",
    "print(\"Train dataset..\")\n",
    "train_dataset, train_labels = create_dataset(df_train)\n",
    "print(\"Time elapsed: \" + str(datetime.timedelta(seconds=(time.time()-start))))\n",
    "\n",
    "print(\"Validation dataset..\")\n",
    "val_dataset, val_labels = create_dataset(df_val)\n",
    "print(\"Time elapsed: \" + str(datetime.timedelta(seconds=(time.time()-start))))\n",
    "\n",
    "print(\"Holdout dataset..\")\n",
    "holdout_dataset, holdout_labels = create_dataset(df_test)\n",
    "print(\"Time elapsed: \" + str(datetime.timedelta(seconds=(time.time()-start))))\n",
    "\n",
    "print(\"Holdout dataset (male)..\")\n",
    "holdout_m_dataset, holdout_m_labels = create_dataset(df_test_m)\n",
    "print(\"Time elapsed: \" + str(datetime.timedelta(seconds=(time.time()-start))))\n",
    "\n",
    "print(\"Holdout dataset (female)..\")\n",
    "holdout_f_dataset, holdout_f_labels = create_dataset(df_test_f)\n",
    "\n",
    "end = time.time()\n",
    "print(\"Runtime: \" + str(datetime.timedelta(seconds=(end-start))))\n"
   ]
  },
  {
   "cell_type": "code",
   "execution_count": null,
   "metadata": {},
   "outputs": [],
   "source": [
    "print(train_dataset.shape)\n",
    "print(val_dataset.shape)\n",
    "print(holdout_dataset.shape)\n",
    "print(holdout_m_dataset.shape)\n",
    "print(holdout_f_dataset.shape)"
   ]
  },
  {
   "cell_type": "code",
   "execution_count": null,
   "metadata": {},
   "outputs": [],
   "source": [
    "import matplotlib.pyplot as plt"
   ]
  },
  {
   "cell_type": "code",
   "execution_count": null,
   "metadata": {},
   "outputs": [],
   "source": [
    "plt.figure(figsize=(12, 8))\n",
    "plt.imshow(train_dataset[-1][:,:,115], cmap='gray')\n",
    "plt.show()"
   ]
  },
  {
   "cell_type": "code",
   "execution_count": null,
   "metadata": {},
   "outputs": [],
   "source": [
    "plt.figure(figsize=(12, 8))\n",
    "plt.imshow(holdout_m_dataset[6][:,:,115], cmap='gray')\n",
    "plt.show()"
   ]
  },
  {
   "cell_type": "code",
   "execution_count": null,
   "metadata": {},
   "outputs": [],
   "source": [
    "import h5py\n",
    "fpath = os.path.join(output_path, 'np{}_r{}_bal'.format(numpy_seed, r))\n",
    "os.mkdir(fpath)"
   ]
  },
  {
   "cell_type": "code",
   "execution_count": null,
   "metadata": {},
   "outputs": [],
   "source": [
    "h5 = h5py.File(os.path.join(fpath, 'ADNI_3T_AD_CN_train.h5'), 'w')\n",
    "h5.create_dataset('X', data=train_dataset, compression='gzip', compression_opts=9)\n",
    "h5.create_dataset('y', data=train_labels, compression='gzip', compression_opts=9)\n",
    "h5.close()"
   ]
  },
  {
   "cell_type": "code",
   "execution_count": null,
   "metadata": {},
   "outputs": [],
   "source": [
    "h5 = h5py.File(os.path.join(fpath, 'ADNI_3T_AD_CN_val.h5'), 'w')\n",
    "h5.create_dataset('X', data=val_dataset, compression='gzip', compression_opts=9)\n",
    "h5.create_dataset('y', data=val_labels, compression='gzip', compression_opts=9)\n",
    "h5.close()"
   ]
  },
  {
   "cell_type": "code",
   "execution_count": null,
   "metadata": {},
   "outputs": [],
   "source": [
    "h5 = h5py.File(os.path.join(fpath, 'ADNI_3T_AD_CN_holdout.h5'), 'w')\n",
    "h5.create_dataset('X', data=holdout_dataset, compression='gzip', compression_opts=9)\n",
    "h5.create_dataset('y', data=holdout_labels, compression='gzip', compression_opts=9)\n",
    "h5.close()"
   ]
  },
  {
   "cell_type": "code",
   "execution_count": null,
   "metadata": {},
   "outputs": [],
   "source": [
    "h5 = h5py.File(os.path.join(fpath, 'ADNI_3T_AD_CN_holdout_m.h5'), 'w')\n",
    "h5.create_dataset('X', data=holdout_m_dataset, compression='gzip', compression_opts=9)\n",
    "h5.create_dataset('y', data=holdout_m_labels, compression='gzip', compression_opts=9)\n",
    "h5.close()"
   ]
  },
  {
   "cell_type": "code",
   "execution_count": null,
   "metadata": {},
   "outputs": [],
   "source": [
    "h5 = h5py.File(os.path.join(fpath, 'ADNI_3T_AD_CN_holdout_f.h5'), 'w')\n",
    "h5.create_dataset('X', data=holdout_f_dataset, compression='gzip', compression_opts=9)\n",
    "h5.create_dataset('y', data=holdout_f_labels, compression='gzip', compression_opts=9)\n",
    "h5.close()"
   ]
  }
 ],
 "metadata": {
  "kernelspec": {
   "display_name": "Python 3",
   "language": "python",
   "name": "python3"
  },
  "language_info": {
   "codemirror_mode": {
    "name": "ipython",
    "version": 3
   },
   "file_extension": ".py",
   "mimetype": "text/x-python",
   "name": "python",
   "nbconvert_exporter": "python",
   "pygments_lexer": "ipython3",
   "version": "3.7.4"
  }
 },
 "nbformat": 4,
 "nbformat_minor": 2
}
